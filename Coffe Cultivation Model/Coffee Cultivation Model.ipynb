{
 "cells": [
  {
   "cell_type": "markdown",
   "id": "17ee135e",
   "metadata": {},
   "source": [
    "# Coffee Cultivation Model"
   ]
  },
  {
   "cell_type": "code",
   "execution_count": 1,
   "id": "00fb8bfb",
   "metadata": {},
   "outputs": [
    {
     "name": "stdout",
     "output_type": "stream",
     "text": [
      "Requirement already satisfied: Faker in c:\\users\\chamith\\anaconda3\\lib\\site-packages (19.2.0)\n",
      "Requirement already satisfied: python-dateutil>=2.4 in c:\\users\\chamith\\anaconda3\\lib\\site-packages (from Faker) (2.8.2)\n",
      "Requirement already satisfied: six>=1.5 in c:\\users\\chamith\\anaconda3\\lib\\site-packages (from python-dateutil>=2.4->Faker) (1.16.0)\n"
     ]
    }
   ],
   "source": [
    "!pip install Faker\n",
    "import csv\n",
    "import random\n",
    "from faker import Faker"
   ]
  },
  {
   "cell_type": "markdown",
   "id": "e10a7741",
   "metadata": {},
   "source": [
    "### Create a Faker instance\n"
   ]
  },
  {
   "cell_type": "code",
   "execution_count": 2,
   "id": "fb08dc75",
   "metadata": {},
   "outputs": [],
   "source": [
    "fake = Faker()"
   ]
  },
  {
   "cell_type": "markdown",
   "id": "540fe397",
   "metadata": {},
   "source": [
    "### Generate synthetic data and store it in a list"
   ]
  },
  {
   "cell_type": "markdown",
   "id": "ab8bf84d",
   "metadata": {},
   "source": [
    "num_samples = 1000\n",
    "data = []\n",
    "\n",
    "for _ in range(num_samples):\n",
    "    # Generate features\n",
    "    temperature = round(random.uniform(15, 30), 2) \n",
    "    precipitation = round(random.uniform(100, 250), 2)\n",
    "    altitude = fake.random_int(min = 600, max = 2000)\n",
    "    soil_ph = round(random.uniform(6.0, 6.5), 2)\n",
    "    coffee_variety = fake.random_int(min = 0, max = 1)\n",
    "    \n",
    "    if coffee_variety == 1: #1 represent Robusta coffee varient . 0 represent Arabica coffee varient.\n",
    "        if temperature >= 15 and temperature <= 30 and precipitation >= 100 and precipitation <= 250 and \\\n",
    "           altitude >= 600 and altitude <= 2000 and soil_ph >= 6.0 and soil_ph <= 6.5:\n",
    "            coffee_growth = 1\n",
    "        else:\n",
    "            coffee_growth = 0\n",
    "    else:\n",
    "        if temperature >= 20 and temperature <= 30 and precipitation >= 80 and precipitation <= 290 and \\\n",
    "           altitude >= 700 and altitude <= 2000 and soil_ph >= 6.3 and soil_ph <= 6.5:\n",
    "            coffee_growth = 1\n",
    "        else:\n",
    "            coffee_growth = 0\n",
    "\n",
    "    data.append([temperature, precipitation, altitude, soil_ph, coffee_variety, coffee_growth])\n"
   ]
  },
  {
   "cell_type": "markdown",
   "id": "a106267a",
   "metadata": {},
   "source": [
    "### Define CSV file path"
   ]
  },
  {
   "cell_type": "code",
   "execution_count": 6,
   "id": "f5e45ff3",
   "metadata": {},
   "outputs": [],
   "source": [
    "csv_file = \"coffe_Cultivation_dataset.csv\""
   ]
  },
  {
   "cell_type": "markdown",
   "id": "0bff9af4",
   "metadata": {},
   "source": [
    "### Write data to CSV file"
   ]
  },
  {
   "cell_type": "code",
   "execution_count": 7,
   "id": "ebf853b8",
   "metadata": {},
   "outputs": [
    {
     "name": "stdout",
     "output_type": "stream",
     "text": [
      "coffe_Cultivation dataset with 1000 samples has been created and saved as 'coffe_Cultivation_dataset.csv'.\n"
     ]
    }
   ],
   "source": [
    "# Write data to CSV file\n",
    "with open(csv_file, 'w', newline='') as f:\n",
    "    writer = csv.writer(f)\n",
    "    # Write header\n",
    "    writer.writerow(['Temperature', 'Preception', 'Altitude', 'SoilPh', 'CoffeeVarients','CoffeeGrowth'])\n",
    "    # Write data rows\n",
    "    writer.writerows(data)\n",
    "    \n",
    "print(f\"coffe_Cultivation dataset with {num_samples} samples has been created and saved as '{csv_file}'.\")\n"
   ]
  },
  {
   "cell_type": "markdown",
   "id": "21beb730",
   "metadata": {},
   "source": [
    "# ML Steps "
   ]
  },
  {
   "cell_type": "markdown",
   "id": "d9909491",
   "metadata": {},
   "source": [
    "## 01. using Logistic Regression "
   ]
  },
  {
   "cell_type": "markdown",
   "id": "0fe8e2bb",
   "metadata": {},
   "source": [
    "### Step 1: Import required Libraries "
   ]
  },
  {
   "cell_type": "code",
   "execution_count": 8,
   "id": "e49bf077",
   "metadata": {},
   "outputs": [],
   "source": [
    "import pandas as pd\n",
    "from sklearn.model_selection import train_test_split\n",
    "from sklearn.preprocessing import MinMaxScaler\n",
    "from sklearn.linear_model import LogisticRegression\n",
    "from sklearn.metrics import accuracy_score, precision_score, recall_score, f1_score"
   ]
  },
  {
   "cell_type": "markdown",
   "id": "38b8f3ee",
   "metadata": {},
   "source": [
    "### Step 2: Load the dataset"
   ]
  },
  {
   "cell_type": "code",
   "execution_count": 9,
   "id": "83f696d5",
   "metadata": {},
   "outputs": [],
   "source": [
    "data = pd.read_csv(\"coffe_Cultivation_dataset.csv\")"
   ]
  },
  {
   "cell_type": "markdown",
   "id": "951ced88",
   "metadata": {},
   "source": [
    "### Step 3: Feature Scaling"
   ]
  },
  {
   "cell_type": "code",
   "execution_count": 10,
   "id": "6f372193",
   "metadata": {},
   "outputs": [],
   "source": [
    "scaler = MinMaxScaler()\n",
    "features = ['Temperature','Preception','Altitude','SoilPh','CoffeeVarients']\n",
    "data[features] = scaler.fit_transform(data[features])"
   ]
  },
  {
   "cell_type": "markdown",
   "id": "49a1b1f8",
   "metadata": {},
   "source": [
    "### Step 4: Model Building"
   ]
  },
  {
   "cell_type": "code",
   "execution_count": 11,
   "id": "0b2aee13",
   "metadata": {},
   "outputs": [],
   "source": [
    "X = data[features]\n",
    "y = data['CoffeeGrowth']"
   ]
  },
  {
   "cell_type": "markdown",
   "id": "630d4033",
   "metadata": {},
   "source": [
    "### Step 5: (continued): Data Splitting"
   ]
  },
  {
   "cell_type": "code",
   "execution_count": 12,
   "id": "5fae2380",
   "metadata": {},
   "outputs": [],
   "source": [
    "X_train, X_test, y_train, y_test = train_test_split(X, y, test_size=0.2, random_state=10)"
   ]
  },
  {
   "cell_type": "markdown",
   "id": "e581b5dc",
   "metadata": {},
   "source": [
    "### Step 6: Model Training"
   ]
  },
  {
   "cell_type": "code",
   "execution_count": 13,
   "id": "75510b1d",
   "metadata": {},
   "outputs": [
    {
     "data": {
      "text/plain": [
       "LogisticRegression()"
      ]
     },
     "execution_count": 13,
     "metadata": {},
     "output_type": "execute_result"
    }
   ],
   "source": [
    "model = LogisticRegression()\n",
    "model.fit(X_train, y_train)"
   ]
  },
  {
   "cell_type": "markdown",
   "id": "0edbb6ff",
   "metadata": {},
   "source": [
    "### Step 7: Model Evaluation"
   ]
  },
  {
   "cell_type": "code",
   "execution_count": 14,
   "id": "d5b02bdf",
   "metadata": {},
   "outputs": [
    {
     "name": "stdout",
     "output_type": "stream",
     "text": [
      "Accuracy: 0.925\n",
      "Precision: 0.9655172413793104\n",
      "Recall: 0.9105691056910569\n",
      "F1 Score: 0.9372384937238494\n"
     ]
    }
   ],
   "source": [
    "y_pred = model.predict(X_test)\n",
    "accuracy = accuracy_score(y_test, y_pred)\n",
    "precision = precision_score(y_test, y_pred)\n",
    "recall = recall_score(y_test, y_pred)\n",
    "f1 = f1_score(y_test, y_pred)\n",
    "\n",
    "print(f\"Accuracy: {accuracy}\")\n",
    "print(f\"Precision: {precision}\")\n",
    "print(f\"Recall: {recall}\")\n",
    "print(f\"F1 Score: {f1}\")"
   ]
  },
  {
   "cell_type": "code",
   "execution_count": null,
   "id": "24c521c3",
   "metadata": {},
   "outputs": [],
   "source": []
  }
 ],
 "metadata": {
  "kernelspec": {
   "display_name": "Python 3 (ipykernel)",
   "language": "python",
   "name": "python3"
  },
  "language_info": {
   "codemirror_mode": {
    "name": "ipython",
    "version": 3
   },
   "file_extension": ".py",
   "mimetype": "text/x-python",
   "name": "python",
   "nbconvert_exporter": "python",
   "pygments_lexer": "ipython3",
   "version": "3.9.7"
  }
 },
 "nbformat": 4,
 "nbformat_minor": 5
}

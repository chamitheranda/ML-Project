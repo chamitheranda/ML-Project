{
 "cells": [
  {
   "cell_type": "markdown",
   "id": "baa508d7",
   "metadata": {},
   "source": [
    "# Coffee Cultivation Model"
   ]
  },
  {
   "cell_type": "code",
   "execution_count": 1,
   "id": "b0672e79",
   "metadata": {},
   "outputs": [
    {
     "name": "stdout",
     "output_type": "stream",
     "text": [
      "Requirement already satisfied: Faker in c:\\users\\chamith\\anaconda3\\lib\\site-packages (19.2.0)\n",
      "Requirement already satisfied: python-dateutil>=2.4 in c:\\users\\chamith\\anaconda3\\lib\\site-packages (from Faker) (2.8.2)\n",
      "Requirement already satisfied: six>=1.5 in c:\\users\\chamith\\anaconda3\\lib\\site-packages (from python-dateutil>=2.4->Faker) (1.16.0)\n"
     ]
    }
   ],
   "source": [
    "!pip install Faker\n",
    "import csv\n",
    "import random\n",
    "from faker import Faker"
   ]
  },
  {
   "cell_type": "markdown",
   "id": "f7e33af7",
   "metadata": {},
   "source": [
    "### Create a Faker instance\n"
   ]
  },
  {
   "cell_type": "code",
   "execution_count": 2,
   "id": "cd260661",
   "metadata": {},
   "outputs": [],
   "source": [
    "fake = Faker()"
   ]
  },
  {
   "cell_type": "markdown",
   "id": "ebb17e42",
   "metadata": {},
   "source": [
    "### Generate synthetic data and store it in a list"
   ]
  },
  {
   "cell_type": "markdown",
   "id": "31321baa",
   "metadata": {},
   "source": [
    "num_samples = 1000\n",
    "data = []\n",
    "\n",
    "for _ in range(num_samples):\n",
    "    # Generate features\n",
    "    temperature = round(random.uniform(15, 30), 2) \n",
    "    precipitation = round(random.uniform(100, 250), 2)\n",
    "    altitude = fake.random_int(min = 600, max = 2000)\n",
    "    soil_ph = round(random.uniform(6.0, 6.5), 2)\n",
    "    coffee_variety = fake.random_int(min = 0, max = 1)\n",
    "    \n",
    "    if coffee_variety == 1: #1 represent Robusta coffee varient . 0 represent Arabica coffee varient.\n",
    "        if temperature >= 15 and temperature <= 30 and precipitation >= 100 and precipitation <= 250 and \\\n",
    "           altitude >= 600 and altitude <= 2000 and soil_ph >= 6.0 and soil_ph <= 6.5:\n",
    "            coffee_growth = 1\n",
    "        else:\n",
    "            coffee_growth = 0\n",
    "    else:\n",
    "        if temperature >= 20 and temperature <= 30 and precipitation >= 80 and precipitation <= 290 and \\\n",
    "           altitude >= 700 and altitude <= 2000 and soil_ph >= 6.3 and soil_ph <= 6.5:\n",
    "            coffee_growth = 1\n",
    "        else:\n",
    "            coffee_growth = 0\n",
    "\n",
    "    data.append([temperature, precipitation, altitude, soil_ph, coffee_variety, coffee_growth])\n"
   ]
  },
  {
   "cell_type": "markdown",
   "id": "d06f3008",
   "metadata": {},
   "source": [
    "### Define CSV file path"
   ]
  },
  {
   "cell_type": "code",
   "execution_count": 6,
   "id": "b197fbab",
   "metadata": {},
   "outputs": [],
   "source": [
    "csv_file = \"coffe_Cultivation_dataset.csv\""
   ]
  },
  {
   "cell_type": "markdown",
   "id": "eb98387e",
   "metadata": {},
   "source": [
    "### Write data to CSV file"
   ]
  },
  {
   "cell_type": "code",
   "execution_count": 7,
   "id": "43062d3c",
   "metadata": {},
   "outputs": [
    {
     "name": "stdout",
     "output_type": "stream",
     "text": [
      "coffe_Cultivation dataset with 1000 samples has been created and saved as 'coffe_Cultivation_dataset.csv'.\n"
     ]
    }
   ],
   "source": [
    "# Write data to CSV file\n",
    "with open(csv_file, 'w', newline='') as f:\n",
    "    writer = csv.writer(f)\n",
    "    # Write header\n",
    "    writer.writerow(['Temperature', 'Preception', 'Altitude', 'SoilPh', 'CoffeeVarients','CoffeeGrowth'])\n",
    "    # Write data rows\n",
    "    writer.writerows(data)\n",
    "    \n",
    "print(f\"coffe_Cultivation dataset with {num_samples} samples has been created and saved as '{csv_file}'.\")\n"
   ]
  },
  {
   "cell_type": "markdown",
   "id": "1225fdd2",
   "metadata": {},
   "source": [
    "# ML Steps "
   ]
  },
  {
   "cell_type": "markdown",
   "id": "9886436c",
   "metadata": {},
   "source": [
    "## 01. using Logistic Regression "
   ]
  },
  {
   "cell_type": "markdown",
   "id": "d20a700c",
   "metadata": {},
   "source": [
    "### Step 1: Import required Libraries "
   ]
  },
  {
   "cell_type": "code",
   "execution_count": 8,
   "id": "acf0c684",
   "metadata": {},
   "outputs": [],
   "source": [
    "import pandas as pd\n",
    "from sklearn.model_selection import train_test_split\n",
    "from sklearn.preprocessing import MinMaxScaler\n",
    "from sklearn.linear_model import LogisticRegression\n",
    "from sklearn.metrics import accuracy_score, precision_score, recall_score, f1_score"
   ]
  },
  {
   "cell_type": "markdown",
   "id": "58479e19",
   "metadata": {},
   "source": [
    "### Step 2: Load the dataset"
   ]
  },
  {
   "cell_type": "code",
   "execution_count": 9,
   "id": "e9018cd5",
   "metadata": {},
   "outputs": [],
   "source": [
    "data = pd.read_csv(\"coffe_Cultivation_dataset.csv\")"
   ]
  },
  {
   "cell_type": "markdown",
   "id": "086b4786",
   "metadata": {},
   "source": [
    "### Step 3: Feature Scaling"
   ]
  },
  {
   "cell_type": "code",
   "execution_count": 10,
   "id": "d2ad976b",
   "metadata": {},
   "outputs": [],
   "source": [
    "scaler = MinMaxScaler()\n",
    "features = ['Temperature','Preception','Altitude','SoilPh','CoffeeVarients']\n",
    "data[features] = scaler.fit_transform(data[features])"
   ]
  },
  {
   "cell_type": "markdown",
   "id": "4b3e2244",
   "metadata": {},
   "source": [
    "### Step 4: Model Building"
   ]
  },
  {
   "cell_type": "code",
   "execution_count": 11,
   "id": "892e049f",
   "metadata": {},
   "outputs": [],
   "source": [
    "X = data[features]\n",
    "y = data['CoffeeGrowth']"
   ]
  },
  {
   "cell_type": "markdown",
   "id": "2e84283d",
   "metadata": {},
   "source": [
    "### Step 5: (continued): Data Splitting"
   ]
  },
  {
   "cell_type": "code",
   "execution_count": 12,
   "id": "0a3f2b77",
   "metadata": {},
   "outputs": [],
   "source": [
    "X_train, X_test, y_train, y_test = train_test_split(X, y, test_size=0.2, random_state=10)"
   ]
  },
  {
   "cell_type": "markdown",
   "id": "cdb48327",
   "metadata": {},
   "source": [
    "### Step 6: Model Training"
   ]
  },
  {
   "cell_type": "code",
   "execution_count": 15,
   "id": "b265faf7",
   "metadata": {},
   "outputs": [
    {
     "data": {
      "text/plain": [
       "LogisticRegression()"
      ]
     },
     "execution_count": 15,
     "metadata": {},
     "output_type": "execute_result"
    }
   ],
   "source": [
    "model = LogisticRegression()\n",
    "model.fit(X_train, y_train)"
   ]
  },
  {
   "cell_type": "markdown",
   "id": "80e663a6",
   "metadata": {},
   "source": [
    "### Step 7: Model Evaluation"
   ]
  },
  {
   "cell_type": "code",
   "execution_count": 14,
   "id": "02a5fa57",
   "metadata": {},
   "outputs": [
    {
     "name": "stdout",
     "output_type": "stream",
     "text": [
      "Accuracy: 0.925\n",
      "Precision: 0.9655172413793104\n",
      "Recall: 0.9105691056910569\n",
      "F1 Score: 0.9372384937238494\n"
     ]
    }
   ],
   "source": [
    "y_pred = model.predict(X_test)\n",
    "accuracy = accuracy_score(y_test, y_pred)\n",
    "precision = precision_score(y_test, y_pred)\n",
    "recall = recall_score(y_test, y_pred)\n",
    "f1 = f1_score(y_test, y_pred)\n",
    "\n",
    "print(f\"Accuracy: {accuracy}\")\n",
    "print(f\"Precision: {precision}\")\n",
    "print(f\"Recall: {recall}\")\n",
    "print(f\"F1 Score: {f1}\")"
   ]
  },
  {
   "cell_type": "markdown",
   "id": "184b3e8e",
   "metadata": {},
   "source": [
    "### Make prediction on the user input"
   ]
  },
  {
   "cell_type": "code",
   "execution_count": 16,
   "id": "4f74261e",
   "metadata": {},
   "outputs": [
    {
     "name": "stdout",
     "output_type": "stream",
     "text": [
      "Enter the details:\n",
      "temperature (Range 15 to 30): 18\n",
      "precipitation (Range 100 to 250): 120\n",
      "altitude(Range 600 to 2000): 800\n",
      "soil_ph(Range 6.0 to 6.5): 6.1\n",
      "enter 1 for Robusta 0 for Arabica: 0\n"
     ]
    }
   ],
   "source": [
    "print(\"Enter the details:\")\n",
    "temperature = float(input(\"temperature (Range 15 to 30): \"))\n",
    "precipitation = float(input(\"precipitation (Range 100 to 250): \"))\n",
    "altitude = int(input(\"altitude(Range 600 to 2000): \"))\n",
    "soil_ph = float(input(\"soil_ph(Range 6.0 to 6.5): \"))\n",
    "coffee_variety = int(input(\"enter 1 for Robusta 0 for Arabica: \"))"
   ]
  },
  {
   "cell_type": "markdown",
   "id": "b97f37e9",
   "metadata": {},
   "source": [
    "### Scale the user input using the same scaler used for training data"
   ]
  },
  {
   "cell_type": "code",
   "execution_count": 17,
   "id": "0125248b",
   "metadata": {},
   "outputs": [],
   "source": [
    "data_scaled = scaler.transform([[temperature, precipitation, altitude, soil_ph, coffee_variety]])"
   ]
  },
  {
   "cell_type": "code",
   "execution_count": 18,
   "id": "735b56b3",
   "metadata": {},
   "outputs": [],
   "source": [
    "prediction = model.predict(data_scaled)"
   ]
  },
  {
   "cell_type": "code",
   "execution_count": 19,
   "id": "d6edbc98",
   "metadata": {},
   "outputs": [
    {
     "name": "stdout",
     "output_type": "stream",
     "text": [
      "coffee trees will not be grown up\n"
     ]
    }
   ],
   "source": [
    "if prediction[0] == 1:\n",
    "    print(\"coffee trees will be grown up \")\n",
    "else:\n",
    "    print(\"coffee trees will not be grown up\")"
   ]
  },
  {
   "cell_type": "markdown",
   "id": "2039086f",
   "metadata": {},
   "source": [
    "## 02. Using Support Vector Machine:"
   ]
  },
  {
   "cell_type": "markdown",
   "id": "91a3b26d",
   "metadata": {},
   "source": [
    "### Step 1: import libraries"
   ]
  },
  {
   "cell_type": "code",
   "execution_count": 20,
   "id": "f2db3191",
   "metadata": {},
   "outputs": [],
   "source": [
    "import pandas as pd\n",
    "from sklearn.model_selection import train_test_split\n",
    "from sklearn.preprocessing import MinMaxScaler\n",
    "from sklearn.svm import SVC\n",
    "from sklearn.metrics import accuracy_score, precision_score, recall_score, f1_score"
   ]
  },
  {
   "cell_type": "markdown",
   "id": "d8c76f60",
   "metadata": {},
   "source": [
    "### Step 2: Load the dataset"
   ]
  },
  {
   "cell_type": "code",
   "execution_count": 21,
   "id": "3118e0ca",
   "metadata": {},
   "outputs": [],
   "source": [
    "data = pd.read_csv(\"coffe_Cultivation_dataset.csv\")"
   ]
  },
  {
   "cell_type": "markdown",
   "id": "7fe9603d",
   "metadata": {},
   "source": [
    "### Step 3: Feature Scaling"
   ]
  },
  {
   "cell_type": "code",
   "execution_count": 22,
   "id": "58f90547",
   "metadata": {},
   "outputs": [],
   "source": [
    "scaler = MinMaxScaler()\n",
    "features = ['Temperature','Preception','Altitude','SoilPh','CoffeeVarients']\n",
    "data[features] = scaler.fit_transform(data[features])"
   ]
  },
  {
   "cell_type": "markdown",
   "id": "3e41d05d",
   "metadata": {},
   "source": [
    "### Step 4: Model Building"
   ]
  },
  {
   "cell_type": "code",
   "execution_count": 23,
   "id": "aacb5493",
   "metadata": {},
   "outputs": [],
   "source": [
    "X = data[features]\n",
    "y = data['CoffeeGrowth']"
   ]
  },
  {
   "cell_type": "markdown",
   "id": "d6a4e2ff",
   "metadata": {},
   "source": [
    "### Step 5 : Data Splitting"
   ]
  },
  {
   "cell_type": "code",
   "execution_count": 24,
   "id": "2fc240c0",
   "metadata": {},
   "outputs": [],
   "source": [
    "X_train, X_test, y_train, y_test = train_test_split(X, y, test_size=0.2, random_state=42)"
   ]
  },
  {
   "cell_type": "markdown",
   "id": "5488cc0b",
   "metadata": {},
   "source": [
    "### Step 6: Model Training (SVM)"
   ]
  },
  {
   "cell_type": "code",
   "execution_count": 25,
   "id": "27fb3f44",
   "metadata": {},
   "outputs": [
    {
     "data": {
      "text/plain": [
       "SVC(kernel='linear')"
      ]
     },
     "execution_count": 25,
     "metadata": {},
     "output_type": "execute_result"
    }
   ],
   "source": [
    "model = SVC(kernel='linear')\n",
    "model.fit(X_train, y_train)"
   ]
  },
  {
   "cell_type": "markdown",
   "id": "8ed5edfb",
   "metadata": {},
   "source": [
    "### Step 7: Model Evaluation"
   ]
  },
  {
   "cell_type": "code",
   "execution_count": 26,
   "id": "bd4cd7ed",
   "metadata": {},
   "outputs": [
    {
     "name": "stdout",
     "output_type": "stream",
     "text": [
      "Accuracy: 0.975\n",
      "Precision: 0.9915254237288136\n",
      "Recall: 0.9669421487603306\n",
      "F1 Score: 0.9790794979079498\n"
     ]
    }
   ],
   "source": [
    "y_pred = model.predict(X_test)\n",
    "accuracy = accuracy_score(y_test, y_pred)\n",
    "precision = precision_score(y_test, y_pred)\n",
    "recall = recall_score(y_test, y_pred)\n",
    "f1 = f1_score(y_test, y_pred)\n",
    "\n",
    "print(f\"Accuracy: {accuracy}\")\n",
    "print(f\"Precision: {precision}\")\n",
    "print(f\"Recall: {recall}\")\n",
    "print(f\"F1 Score: {f1}\")"
   ]
  },
  {
   "cell_type": "markdown",
   "id": "fbf1b82e",
   "metadata": {},
   "source": [
    "### Make prediction on the user input"
   ]
  },
  {
   "cell_type": "code",
   "execution_count": 27,
   "id": "fb6f2918",
   "metadata": {},
   "outputs": [
    {
     "name": "stdout",
     "output_type": "stream",
     "text": [
      "Enter the details:\n",
      "temperature (Range 15 to 30): 19\n",
      "precipitation (Range 100 to 250): 120\n",
      "altitude(Range 600 to 2000): 800\n",
      "soil_ph(Range 6.0 to 6.5): 6.1\n",
      "enter 1 for Robusta 0 for Arabica: 0\n"
     ]
    }
   ],
   "source": [
    "print(\"Enter the details:\")\n",
    "temperature = float(input(\"temperature (Range 15 to 30): \"))\n",
    "precipitation = float(input(\"precipitation (Range 100 to 250): \"))\n",
    "altitude = int(input(\"altitude(Range 600 to 2000): \"))\n",
    "soil_ph = float(input(\"soil_ph(Range 6.0 to 6.5): \"))\n",
    "coffee_variety = int(input(\"enter 1 for Robusta 0 for Arabica: \"))"
   ]
  },
  {
   "cell_type": "markdown",
   "id": "cff0db6e",
   "metadata": {},
   "source": [
    "###  Scale the user input using the same scaler used for training data"
   ]
  },
  {
   "cell_type": "code",
   "execution_count": 28,
   "id": "cc14d054",
   "metadata": {},
   "outputs": [],
   "source": [
    "data_scaled = scaler.transform([[temperature, precipitation, altitude, soil_ph, coffee_variety]])"
   ]
  },
  {
   "cell_type": "code",
   "execution_count": null,
   "id": "167a4c45",
   "metadata": {},
   "outputs": [],
   "source": [
    "prediction = model.predict(data_scaled)"
   ]
  }
 ],
 "metadata": {
  "kernelspec": {
   "display_name": "Python 3 (ipykernel)",
   "language": "python",
   "name": "python3"
  },
  "language_info": {
   "codemirror_mode": {
    "name": "ipython",
    "version": 3
   },
   "file_extension": ".py",
   "mimetype": "text/x-python",
   "name": "python",
   "nbconvert_exporter": "python",
   "pygments_lexer": "ipython3",
   "version": "3.9.7"
  }
 },
 "nbformat": 4,
 "nbformat_minor": 5
}

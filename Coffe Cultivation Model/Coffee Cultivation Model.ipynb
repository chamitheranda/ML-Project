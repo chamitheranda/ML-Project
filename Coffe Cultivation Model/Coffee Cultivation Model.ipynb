{
 "cells": [
  {
   "cell_type": "markdown",
   "id": "e8524c1b",
   "metadata": {},
   "source": [
    "# Coffee Cultivation Model"
   ]
  },
  {
   "cell_type": "code",
   "execution_count": 1,
   "id": "7a66de15",
   "metadata": {},
   "outputs": [
    {
     "name": "stdout",
     "output_type": "stream",
     "text": [
      "Requirement already satisfied: Faker in c:\\users\\chamith\\anaconda3\\lib\\site-packages (19.2.0)\n",
      "Requirement already satisfied: python-dateutil>=2.4 in c:\\users\\chamith\\anaconda3\\lib\\site-packages (from Faker) (2.8.2)\n",
      "Requirement already satisfied: six>=1.5 in c:\\users\\chamith\\anaconda3\\lib\\site-packages (from python-dateutil>=2.4->Faker) (1.16.0)\n"
     ]
    }
   ],
   "source": [
    "!pip install Faker\n",
    "import csv\n",
    "import random\n",
    "from faker import Faker"
   ]
  },
  {
   "cell_type": "markdown",
   "id": "05b99eb5",
   "metadata": {},
   "source": [
    "### Create a Faker instance\n"
   ]
  },
  {
   "cell_type": "code",
   "execution_count": 2,
   "id": "07558110",
   "metadata": {},
   "outputs": [],
   "source": [
    "fake = Faker()"
   ]
  },
  {
   "cell_type": "code",
   "execution_count": null,
   "id": "6aebeef8",
   "metadata": {},
   "outputs": [],
   "source": []
  }
 ],
 "metadata": {
  "kernelspec": {
   "display_name": "Python 3 (ipykernel)",
   "language": "python",
   "name": "python3"
  },
  "language_info": {
   "codemirror_mode": {
    "name": "ipython",
    "version": 3
   },
   "file_extension": ".py",
   "mimetype": "text/x-python",
   "name": "python",
   "nbconvert_exporter": "python",
   "pygments_lexer": "ipython3",
   "version": "3.9.7"
  }
 },
 "nbformat": 4,
 "nbformat_minor": 5
}

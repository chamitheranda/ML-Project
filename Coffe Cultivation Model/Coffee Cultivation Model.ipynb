{
 "cells": [
  {
   "cell_type": "markdown",
   "id": "cb48094e",
   "metadata": {},
   "source": [
    "# Coffee Cultivation Model"
   ]
  },
  {
   "cell_type": "code",
   "execution_count": 1,
   "id": "64db3623",
   "metadata": {},
   "outputs": [
    {
     "name": "stdout",
     "output_type": "stream",
     "text": [
      "Requirement already satisfied: Faker in c:\\users\\chamith\\anaconda3\\lib\\site-packages (19.2.0)\n",
      "Requirement already satisfied: python-dateutil>=2.4 in c:\\users\\chamith\\anaconda3\\lib\\site-packages (from Faker) (2.8.2)\n",
      "Requirement already satisfied: six>=1.5 in c:\\users\\chamith\\anaconda3\\lib\\site-packages (from python-dateutil>=2.4->Faker) (1.16.0)\n"
     ]
    }
   ],
   "source": [
    "!pip install Faker\n",
    "import csv\n",
    "import random\n",
    "from faker import Faker"
   ]
  },
  {
   "cell_type": "markdown",
   "id": "53845554",
   "metadata": {},
   "source": [
    "### Create a Faker instance\n"
   ]
  },
  {
   "cell_type": "code",
   "execution_count": 2,
   "id": "08626f7e",
   "metadata": {},
   "outputs": [],
   "source": [
    "fake = Faker()"
   ]
  },
  {
   "cell_type": "markdown",
   "id": "002078c8",
   "metadata": {},
   "source": [
    "### Generate synthetic data and store it in a list"
   ]
  },
  {
   "cell_type": "code",
   "execution_count": 3,
   "id": "818d49bb",
   "metadata": {},
   "outputs": [],
   "source": [
    "num_samples = 1000\n",
    "data = []\n",
    "\n",
    "for _ in range(num_samples):\n",
    "    # Generate features\n",
    "    temperature = round(random.uniform(15, 30), 2) \n",
    "    precipitation = round(random.uniform(100, 250), 2)\n",
    "    altitude = fake.random_int(min = 600, max = 2000)\n",
    "    soil_ph = round(random.uniform(6.0, 6.5), 2)\n",
    "    coffee_variety = fake.random_int(min = 0, max = 1)\n",
    "    \n",
    "    if coffee_variety == 1: #1 represent Robusta coffee varient . 0 represent Arabica coffee varient.\n",
    "        if temperature >= 15 and temperature <= 30 and precipitation >= 100 and precipitation <= 250 and \\\n",
    "           altitude >= 600 and altitude <= 2000 and soil_ph >= 6.0 and soil_ph <= 6.5:\n",
    "            coffee_growth = 1\n",
    "        else:\n",
    "            coffee_growth = 0\n",
    "    else:\n",
    "        if temperature >= 20 and temperature <= 30 and precipitation >= 80 and precipitation <= 290 and \\\n",
    "           altitude >= 700 and altitude <= 2000 and soil_ph >= 6.3 and soil_ph <= 6.5:\n",
    "            coffee_growth = 1\n",
    "        else:\n",
    "            coffee_growth = 0\n",
    "\n",
    "    data.append([temperature, precipitation, altitude, soil_ph, coffee_variety, coffee_growth])\n"
   ]
  },
  {
   "cell_type": "code",
   "execution_count": null,
   "id": "a2baf412",
   "metadata": {},
   "outputs": [],
   "source": []
  }
 ],
 "metadata": {
  "kernelspec": {
   "display_name": "Python 3 (ipykernel)",
   "language": "python",
   "name": "python3"
  },
  "language_info": {
   "codemirror_mode": {
    "name": "ipython",
    "version": 3
   },
   "file_extension": ".py",
   "mimetype": "text/x-python",
   "name": "python",
   "nbconvert_exporter": "python",
   "pygments_lexer": "ipython3",
   "version": "3.9.7"
  }
 },
 "nbformat": 4,
 "nbformat_minor": 5
}
